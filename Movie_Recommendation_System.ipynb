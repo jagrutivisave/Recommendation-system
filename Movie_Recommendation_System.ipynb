{
  "nbformat": 4,
  "nbformat_minor": 0,
  "metadata": {
    "colab": {
      "provenance": []
    },
    "kernelspec": {
      "name": "python3",
      "display_name": "Python 3"
    },
    "language_info": {
      "name": "python"
    }
  },
  "cells": [
    {
      "cell_type": "code",
      "source": [
        "import pandas as pd\n",
        "ratings = pd.read_csv('/content/ratings.csv')\n",
        "movies = pd.read_csv('/content/movies.csv')\n",
        "print(ratings.head())\n",
        "print(movies.head())"
      ],
      "metadata": {
        "id": "KlXJtl5OcLLQ",
        "colab": {
          "base_uri": "https://localhost:8080/"
        },
        "outputId": "73ade804-fed5-43ee-cf53-405ba0db6a16"
      },
      "execution_count": 1,
      "outputs": [
        {
          "output_type": "stream",
          "name": "stdout",
          "text": [
            "   userId  movieId  rating  timestamp\n",
            "0       1        1     4.0  964982703\n",
            "1       1        3     4.0  964981247\n",
            "2       1        6     4.0  964982224\n",
            "3       1       47     5.0  964983815\n",
            "4       1       50     5.0  964982931\n",
            "   movieId                               title  \\\n",
            "0        1                    Toy Story (1995)   \n",
            "1        2                      Jumanji (1995)   \n",
            "2        3             Grumpier Old Men (1995)   \n",
            "3        4            Waiting to Exhale (1995)   \n",
            "4        5  Father of the Bride Part II (1995)   \n",
            "\n",
            "                                        genres  \n",
            "0  Adventure|Animation|Children|Comedy|Fantasy  \n",
            "1                   Adventure|Children|Fantasy  \n",
            "2                               Comedy|Romance  \n",
            "3                         Comedy|Drama|Romance  \n",
            "4                                       Comedy  \n"
          ]
        }
      ]
    },
    {
      "cell_type": "code",
      "source": [
        "data = pd.merge(ratings, movies, on='movieId')"
      ],
      "metadata": {
        "id": "B5U-ETivWv-T"
      },
      "execution_count": 2,
      "outputs": []
    },
    {
      "cell_type": "code",
      "source": [
        "user_movie_matrix = data.pivot_table(index='userId', columns='title', values='rating')\n",
        "user_movie_matrix = user_movie_matrix.fillna(0)"
      ],
      "metadata": {
        "id": "yCTwekwjWwAo"
      },
      "execution_count": 3,
      "outputs": []
    },
    {
      "cell_type": "code",
      "source": [
        "from sklearn.feature_extraction.text import CountVectorizer\n",
        "\n",
        "# Create a CountVectorizer instance\n",
        "count_vectorizer = CountVectorizer(tokenizer=lambda x: x.split('|'))\n",
        "genre_matrix = count_vectorizer.fit_transform(movies['genres'])\n"
      ],
      "metadata": {
        "id": "SB03guSEWwCz",
        "colab": {
          "base_uri": "https://localhost:8080/"
        },
        "outputId": "da59efe2-a0f6-4b58-932f-d375b444c0c7"
      },
      "execution_count": 4,
      "outputs": [
        {
          "output_type": "stream",
          "name": "stderr",
          "text": [
            "/usr/local/lib/python3.10/dist-packages/sklearn/feature_extraction/text.py:528: UserWarning: The parameter 'token_pattern' will not be used since 'tokenizer' is not None'\n",
            "  warnings.warn(\n"
          ]
        }
      ]
    },
    {
      "cell_type": "code",
      "source": [
        "from sklearn.metrics.pairwise import cosine_similarity\n",
        "cosine_sim = cosine_similarity(genre_matrix, genre_matrix)"
      ],
      "metadata": {
        "id": "rNWgXPAlWwFF"
      },
      "execution_count": 5,
      "outputs": []
    },
    {
      "cell_type": "code",
      "source": [
        "def recommend_movies_content_based(movie_title, cosine_sim=cosine_sim):\n",
        "    if movie_title not in movies['title'].values:\n",
        "        return \"Movie not found in the database.\"\n",
        "\n",
        "    idx = movies[movies['title'] == movie_title].index[0]\n",
        "    sim_scores = list(enumerate(cosine_sim[idx]))\n",
        "    sim_scores = sorted(sim_scores, key=lambda x: x[1], reverse=True)\n",
        "    sim_scores = sim_scores[1:11]\n",
        "    movie_indices = [i[0] for i in sim_scores]\n",
        "    return movies['title'].iloc[movie_indices]\n",
        "\n",
        "# Taking input for content-based recommendation\n",
        "movie_title = input(\"Enter a movie title: \")\n",
        "recommended_movies = recommend_movies_content_based(movie_title)\n",
        "print(\"Recommended movies based on content-based filtering:\")\n",
        "print(recommended_movies)"
      ],
      "metadata": {
        "id": "1Ap10AfLWwIj",
        "colab": {
          "base_uri": "https://localhost:8080/"
        },
        "outputId": "5137a55f-75cb-4495-bee0-585146f2f1ab"
      },
      "execution_count": 8,
      "outputs": [
        {
          "output_type": "stream",
          "name": "stdout",
          "text": [
            "Enter a movie title: Jumanji\n",
            "Recommended movies based on content-based filtering:\n",
            "Movie not found in the database.\n"
          ]
        }
      ]
    },
    {
      "cell_type": "code",
      "source": [
        "from sklearn.metrics.pairwise import cosine_similarity\n",
        "\n",
        "# Compute item-item similarity\n",
        "movie_similarity = cosine_similarity(user_movie_matrix.T)"
      ],
      "metadata": {
        "id": "aapJdc84JG-f"
      },
      "execution_count": 7,
      "outputs": []
    },
    {
      "cell_type": "code",
      "source": [
        "import numpy as np\n",
        "def recommend_movies_collaborative(user_id, user_movie_matrix=user_movie_matrix, movie_similarity=movie_similarity):\n",
        "    if user_id not in user_movie_matrix.index:\n",
        "        return \"User ID not found in the database.\"\n",
        "\n",
        "    user_ratings = user_movie_matrix.loc[user_id]\n",
        "    similar_scores = movie_similarity.dot(user_ratings)\n",
        "    similar_scores = similar_scores / np.sum(user_movie_matrix != 0, axis=0)\n",
        "\n",
        "    # Convert to a Pandas Series and sort\n",
        "    similar_scores_series = pd.Series(similar_scores, index=user_movie_matrix.columns)\n",
        "    similar_scores_series = similar_scores_series.sort_values(ascending=False)\n",
        "\n",
        "    # Return top 10 recommended movies\n",
        "    return similar_scores_series.index[:10]\n",
        "\n",
        "# Taking input for collaborative filtering recommendation\n",
        "user_id = int(input(\"Enter your user ID: \"))\n",
        "recommended_movies = recommend_movies_collaborative(user_id)\n",
        "print(\"Recommended movies based on collaborative filtering:\")\n",
        "print(recommended_movies)"
      ],
      "metadata": {
        "id": "lo6XyQDlJHBM",
        "colab": {
          "base_uri": "https://localhost:8080/"
        },
        "outputId": "32f1df3b-56de-4fec-d20f-13ab299ca361"
      },
      "execution_count": 11,
      "outputs": [
        {
          "output_type": "stream",
          "name": "stdout",
          "text": [
            "Enter your user ID: 2\n",
            "Recommended movies based on collaborative filtering:\n",
            "Index(['The Jinx: The Life and Deaths of Robert Durst (2015)',\n",
            "       'Visit, The (2015)', 'Adventures of Mowgli: The Kidnapping (1968)',\n",
            "       'What Men Still Talk About (2011)',\n",
            "       'Heart of a Dog (Sobachye serdtse) (1988)',\n",
            "       'Priklyucheniya Kapitana Vrungelya (1979)',\n",
            "       'Andrei Rublev (Andrey Rublyov) (1969)',\n",
            "       'Ernest & Célestine (Ernest et Célestine) (2012)',\n",
            "       'Bobik Visiting Barbos (1977)',\n",
            "       'From Up on Poppy Hill (Kokuriko-zaka kara) (2011)'],\n",
            "      dtype='object', name='title')\n"
          ]
        }
      ]
    },
    {
      "cell_type": "markdown",
      "source": [],
      "metadata": {
        "id": "0X0eYYjUYBRY"
      }
    },
    {
      "cell_type": "code",
      "source": [],
      "metadata": {
        "id": "aTncnTxxJHHg"
      },
      "execution_count": null,
      "outputs": []
    },
    {
      "cell_type": "code",
      "source": [],
      "metadata": {
        "id": "by_i9EZYJHKE"
      },
      "execution_count": null,
      "outputs": []
    },
    {
      "cell_type": "code",
      "source": [],
      "metadata": {
        "id": "P9IkNIUWJHMb"
      },
      "execution_count": null,
      "outputs": []
    }
  ]
}